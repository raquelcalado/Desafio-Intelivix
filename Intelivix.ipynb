{
 "cells": [
  {
   "cell_type": "markdown",
   "metadata": {},
   "source": [
    "<h1>DESAFIO INTELIVIX</h1>\n",
    "<p>Análise de Sentimento</p>"
   ]
  },
  {
   "cell_type": "markdown",
   "metadata": {},
   "source": [
    "<h2>Importando as Bibliotecas</h2>"
   ]
  },
  {
   "cell_type": "code",
   "execution_count": 38,
   "metadata": {},
   "outputs": [],
   "source": [
    "import numpy as np\n",
    "import pandas as pd\n",
    "import matplotlib as plt\n",
    "import warnings\n",
    "import nltk\n",
    "import csv\n",
    "import os\n",
    "import re\n",
    "from sklearn.metrics import confusion_matrix, \\\n",
    "    classification_report, accuracy_score\n",
    "from sklearn.tree import DecisionTreeClassifier\n",
    "from sklearn.ensemble import RandomForestClassifier\n",
    "from sklearn.neural_network import MLPClassifier\n",
    "from imblearn.over_sampling import SMOTE\n",
    "from sklearn.pipeline import FeatureUnion\n",
    "from sklearn.pipeline import Pipeline\n",
    "from sklearn.preprocessing import FunctionTransformer\n",
    "from sklearn.feature_extraction.text import HashingVectorizer\n",
    "from sklearn.model_selection import cross_val_predict\n",
    "from nltk.corpus import stopwords\n",
    "from nltk.tokenize import word_tokenize\n",
    "from nltk.stem import WordNetLemmatizer\n",
    "from pandas import read_csv, concat\n",
    "from sklearn.ensemble import VotingClassifier"
   ]
  },
  {
   "cell_type": "markdown",
   "metadata": {},
   "source": [
    "<h2>Baixar WordNet </h2>\n",
    "<p>Banco de dados léxico em inglês, usado posteriormente para auxiliar no pré-processamento dos dados.</p>"
   ]
  },
  {
   "cell_type": "code",
   "execution_count": 35,
   "metadata": {},
   "outputs": [
    {
     "name": "stdout",
     "output_type": "stream",
     "text": [
      "[nltk_data] Downloading package wordnet to\n",
      "[nltk_data]     C:\\Users\\UPE\\AppData\\Roaming\\nltk_data...\n",
      "[nltk_data]   Package wordnet is already up-to-date!\n"
     ]
    },
    {
     "data": {
      "text/plain": [
       "True"
      ]
     },
     "execution_count": 35,
     "metadata": {},
     "output_type": "execute_result"
    }
   ],
   "source": [
    "nltk.download('wordnet')"
   ]
  },
  {
   "cell_type": "markdown",
   "metadata": {},
   "source": [
    "<h2>Ignorar <i>warnings</i>, para melhor visualização de resultados posteriomente.</h2>"
   ]
  },
  {
   "cell_type": "code",
   "execution_count": 36,
   "metadata": {},
   "outputs": [],
   "source": [
    "warnings.filterwarnings(\"ignore\")"
   ]
  },
  {
   "cell_type": "markdown",
   "metadata": {},
   "source": [
    "<h2>Endereço da pasta onde o arquivo da base de dados se encontra</h2>"
   ]
  },
  {
   "cell_type": "code",
   "execution_count": 40,
   "metadata": {},
   "outputs": [],
   "source": [
    "pasta = os.path.abspath(\".\") + \"/Base/\""
   ]
  },
  {
   "cell_type": "markdown",
   "metadata": {},
   "source": [
    "<h2>Pré-processamento dos dados</h2>\n",
    "<p>Em pré-processamento, foram adotadas as técnicas: <b>Tokenização</b>, <b>Lematização</b> e <b>Remoção de <i>Stopwords<i/></b>. Uma filtragem e remoção de pontuações e caracteres especiais também foi realizada.</p>\n",
    "</br>\n",
    "<p> É importante ressaltar que daqui em diante, só foram consideradas duas das colunas disponíveis na base dados: <b>Texto</b> e <b>Sentimento</b>, pois as demais foram consideradas irrelevantes para a classificação. Uma vez que não apresentavam conteúdo que pudesse ajudar os algoritmos a classificar os textos."
   ]
  },
  {
   "cell_type": "code",
   "execution_count": 39,
   "metadata": {},
   "outputs": [],
   "source": [
    "lemmatizer = WordNetLemmatizer()\n",
    "stop_words = set(stopwords.words('english'))\n",
    "\n",
    "resultadoLinha = []\n",
    "\n",
    "df = pd.read_csv(pasta+\"train.tsv\",\n",
    "                 sep='\\t',\n",
    "                 encoding=\"ISO-8859-1\")\n",
    "\n",
    "for i, row in df.iterrows():\n",
    "    montaLinha = []\n",
    "\n",
    "    # TOKENIZAÇÃO\n",
    "    word_tokens = word_tokenize(row['Texto'])\n",
    "\n",
    "    # LEMATIZAÇÃO\n",
    "    lemmatized = list()\n",
    "    for word in word_tokens:\n",
    "        l2 = lemmatizer.lemmatize(word)\n",
    "        lemmatized.append(l2)\n",
    "\n",
    "    # STOP WORDS e REMOÇÃO DE ACENTOS\n",
    "    filtered_sentence = []\n",
    "    for w in lemmatized:\n",
    "        if w not in stop_words:\n",
    "            dict = {\":\": \"\", \".\": \"\", \",\": \"\", \";\": \"\", \"?\": \"\",\n",
    "                    \"!\": \"\", \"'\": \"\", \":\": \"\", \"$\": \"\", \"-\": \"\",\n",
    "                    \"_\": \"\"}\n",
    "            regex = re.compile(\"(%s)\" % \"|\".join(map(re.escape, dict.keys())))\n",
    "            cont = regex.sub(lambda mo: dict[mo.string[mo.start():mo.end()]], w)\n",
    "\n",
    "            if(cont):\n",
    "                filtered_sentence.append(w)\n",
    "\n",
    "    if(filtered_sentence):\n",
    "        montaLinha.insert(0, filtered_sentence)\n",
    "        montaLinha.insert(1, row['Sentimento'])\n",
    "        resultadoLinha.append(montaLinha)\n",
    "\n",
    "\n"
   ]
  },
  {
   "cell_type": "markdown",
   "metadata": {},
   "source": [
    "  <h2>Salva a base pré-processada em arquivo CSV</h2>"
   ]
  },
  {
   "cell_type": "code",
   "execution_count": 41,
   "metadata": {},
   "outputs": [],
   "source": [
    "with open(pasta + \"base_pp.csv\", 'wb') as csvbase:\n",
    "    tagWriter = csv.writer(csvbase,\n",
    "                           delimiter=',',\n",
    "                           quoting=csv.QUOTE_MINIMAL)\n",
    "\n",
    "    tagWriter.writerow(['Texto', 'Sentimento'])\n",
    "    for resL in resultadoLinha:\n",
    "        tagWriter.writerow(resL)"
   ]
  },
  {
   "cell_type": "markdown",
   "metadata": {},
   "source": [
    "<h2>Classificação</h2>\n",
    "<p>Para realizar a classificação, foram escolhidos os classificadores: Random Forest, Decision Tree e Multilayer Perceptron.\n",
    "Além disto, o tipo de vectorização escolhida para realizar a tranformação de texto em uma matriz de ocorrências de token foi o HashingVectorizer.</p>"
   ]
  },
  {
   "cell_type": "code",
   "execution_count": 42,
   "metadata": {},
   "outputs": [],
   "source": [
    "hv = HashingVectorizer(n_features=50, non_negative=True)\n",
    "\n",
    "vec_clf = Pipeline([('vectorizer', hv)])"
   ]
  },
  {
   "cell_type": "markdown",
   "metadata": {},
   "source": [
    "<h2>Quantidade de instâncias por classe</h2>\n",
    "Foi constatado um desbalanceamento entre as classes da base de dados, conforme pode-se observar abaixo:"
   ]
  },
  {
   "cell_type": "code",
   "execution_count": 43,
   "metadata": {},
   "outputs": [],
   "source": [
    "df = pd.read_csv(pasta + '/base_pp.csv', sep=\",\")"
   ]
  },
  {
   "cell_type": "code",
   "execution_count": 46,
   "metadata": {},
   "outputs": [
    {
     "data": {
      "text/plain": [
       "<matplotlib.axes._subplots.AxesSubplot at 0x36790390>"
      ]
     },
     "execution_count": 46,
     "metadata": {},
     "output_type": "execute_result"
    },
    {
     "data": {
      "image/png": "[encoded data removed]",
      "text/plain": [
       "<Figure size 432x288 with 1 Axes>"
      ]
     },
     "metadata": {},
     "output_type": "display_data"
    }
   ],
   "source": [
    "pd.value_counts(df['Sentimento']).plot.bar()"
   ]
  },
  {
   "cell_type": "markdown",
   "metadata": {},
   "source": [
    "<h2>Conforme orientação prévia, o arquivo train.tst deveria ser dividido e utilizado para treino, teste e validação.</h2>\n",
    "75% da base foi separada para treino e teste e 25% ficou para validação."
   ]
  },
  {
   "cell_type": "code",
   "execution_count": 47,
   "metadata": {},
   "outputs": [],
   "source": [
    "amostraBase = np.random.rand(len(df)) < 0.75\n",
    "train = df[amostraBase]\n",
    "test = df[~amostraBase]"
   ]
  },
  {
   "cell_type": "markdown",
   "metadata": {},
   "source": [
    "<h2>Balanceamento com SMOTE</h2>\n",
    "<p>Como a base está desbalanceada, conforme já ilustrado, decidi realizar os experimentos com e sem balanceamento artificial, a fim de comparar os resultados. É importante ressaltar que os resultados aqui analisados são referentes à validação e não a avaliação do treino.</p>"
   ]
  },
  {
   "cell_type": "code",
   "execution_count": 48,
   "metadata": {},
   "outputs": [],
   "source": [
    "sm = SMOTE(random_state=123, n_jobs=-1)\n",
    "\n",
    "X_train_original = vec_clf.fit_transform(train['Texto'])\n",
    "y_train_original = train['Sentimento']\n",
    "\n",
    "X_train_res, y_train_res = sm.fit_sample(X_train_original, y_train_original)"
   ]
  },
  {
   "cell_type": "code",
   "execution_count": 49,
   "metadata": {},
   "outputs": [],
   "source": [
    "X_validacao = test['Texto']\n",
    "y_validacao = test['Sentimento']"
   ]
  },
  {
   "cell_type": "markdown",
   "metadata": {},
   "source": [
    "<h2>RANDOM FOREST</h2>"
   ]
  },
  {
   "cell_type": "markdown",
   "metadata": {},
   "source": [
    "<h3>Base original (desbalanceada)</h3>"
   ]
  },
  {
   "cell_type": "code",
   "execution_count": 50,
   "metadata": {},
   "outputs": [],
   "source": [
    "random_forest_clf = RandomForestClassifier(n_estimators=10,\n",
    "                                           criterion='gini',\n",
    "                                           max_depth=None,\n",
    "                                           n_jobs=-1) "
   ]
  },
  {
   "cell_type": "code",
   "execution_count": 51,
   "metadata": {},
   "outputs": [],
   "source": [
    "y_rf_desbalanceada = cross_val_predict(random_forest_clf,\n",
    "                                       X_train_original,\n",
    "                                       y_train_original,\n",
    "                                       cv=5, n_jobs=-1)\n",
    "\n",
    "random_forest_clf.fit(X_train_original, \n",
    "                      y_train_original)\n",
    "\n",
    "pipeline_random_forest_desbalanceada = Pipeline([('feats', FeatureUnion([\n",
    "                                                    ('countvec', vec_clf)])),\n",
    "                                                    ('clf', random_forest_clf)])\n",
    "              \n",
    "   "
   ]
  },
  {
   "cell_type": "markdown",
   "metadata": {},
   "source": [
    "<h2>Validação - Base desbalanceada (Randon Forest)</h2>"
   ]
  },
  {
   "cell_type": "code",
   "execution_count": 52,
   "metadata": {},
   "outputs": [],
   "source": [
    "predicao_random_forest_desbalanceada = pipeline_random_forest_desbalanceada.predict(X_validacao)"
   ]
  },
  {
   "cell_type": "code",
   "execution_count": 53,
   "metadata": {},
   "outputs": [
    {
     "name": "stdout",
     "output_type": "stream",
     "text": [
      "0.5653721182113569\n"
     ]
    }
   ],
   "source": [
    "print(accuracy_score(y_validacao, predicao_random_forest_desbalanceada))"
   ]
  },
  {
   "cell_type": "code",
   "execution_count": 54,
   "metadata": {},
   "outputs": [
    {
     "name": "stdout",
     "output_type": "stream",
     "text": [
      "             precision    recall  f1-score   support\n",
      "\n",
      "          0       0.39      0.26      0.31      1722\n",
      "          1       0.45      0.30      0.36      6960\n",
      "          2       0.62      0.83      0.71     19595\n",
      "          3       0.46      0.31      0.37      8211\n",
      "          4       0.45      0.26      0.33      2290\n",
      "\n",
      "avg / total       0.54      0.57      0.53     38778\n",
      "\n"
     ]
    }
   ],
   "source": [
    "print(classification_report(y_validacao, predicao_random_forest_desbalanceada))"
   ]
  },
  {
   "cell_type": "code",
   "execution_count": 55,
   "metadata": {},
   "outputs": [
    {
     "name": "stdout",
     "output_type": "stream",
     "text": [
      "[[  441   528   608   128    17]\n",
      " [  463  2055  3918   472    52]\n",
      " [  142  1394 16328  1614   117]\n",
      " [   56   432  4687  2512   524]\n",
      " [   16   125   856   705   588]]\n"
     ]
    }
   ],
   "source": [
    "print(confusion_matrix(y_validacao, predicao_random_forest_desbalanceada))"
   ]
  },
  {
   "cell_type": "markdown",
   "metadata": {},
   "source": [
    "<h3>Base Balanceada - Random Forest</h3>"
   ]
  },
  {
   "cell_type": "code",
   "execution_count": 56,
   "metadata": {},
   "outputs": [],
   "source": [
    "y_rf_balanceada = cross_val_predict(random_forest_clf,\n",
    "                                       X_train_res,\n",
    "                                       y_train_res,\n",
    "                                       cv=5, n_jobs=-1)\n",
    "\n",
    "random_forest_clf.fit(X_train_res, \n",
    "                      y_train_res)\n",
    "\n",
    "pipeline_random_forest_balanceada = Pipeline([('feats', FeatureUnion([\n",
    "                                                    ('countvec', vec_clf)])),\n",
    "                                                    ('clf', random_forest_clf)])"
   ]
  },
  {
   "cell_type": "markdown",
   "metadata": {},
   "source": [
    "<h2>Validação - Base Balanceada (Random Forest)</h2>"
   ]
  },
  {
   "cell_type": "code",
   "execution_count": 57,
   "metadata": {},
   "outputs": [],
   "source": [
    "predicao_random_forest_balanceada = pipeline_random_forest_balanceada.predict(X_validacao)"
   ]
  },
  {
   "cell_type": "code",
   "execution_count": 58,
   "metadata": {},
   "outputs": [
    {
     "name": "stdout",
     "output_type": "stream",
     "text": [
      "0.521507040074269\n"
     ]
    }
   ],
   "source": [
    "print(accuracy_score(y_validacao, predicao_random_forest_balanceada))"
   ]
  },
  {
   "cell_type": "code",
   "execution_count": 59,
   "metadata": {},
   "outputs": [
    {
     "name": "stdout",
     "output_type": "stream",
     "text": [
      "             precision    recall  f1-score   support\n",
      "\n",
      "          0       0.29      0.32      0.30      1722\n",
      "          1       0.40      0.35      0.37      6960\n",
      "          2       0.65      0.69      0.67     19595\n",
      "          3       0.40      0.37      0.39      8211\n",
      "          4       0.31      0.33      0.32      2290\n",
      "\n",
      "avg / total       0.52      0.52      0.52     38778\n",
      "\n"
     ]
    }
   ],
   "source": [
    "print(classification_report(y_validacao, predicao_random_forest_balanceada))"
   ]
  },
  {
   "cell_type": "code",
   "execution_count": 60,
   "metadata": {},
   "outputs": [
    {
     "name": "stdout",
     "output_type": "stream",
     "text": [
      "[[  558   577   390   145    52]\n",
      " [  686  2409  2915   734   216]\n",
      " [  449  2218 13446  2876   606]\n",
      " [  193   648  3473  3044   853]\n",
      " [   55   167   529   773   766]]\n"
     ]
    }
   ],
   "source": [
    "print(confusion_matrix(y_validacao, predicao_random_forest_balanceada))"
   ]
  },
  {
   "cell_type": "markdown",
   "metadata": {},
   "source": [
    "<h2>DECISION TREE</h2><br>\n",
    "<h3>Base original (desbalanceada)</h3>"
   ]
  },
  {
   "cell_type": "code",
   "execution_count": 61,
   "metadata": {},
   "outputs": [],
   "source": [
    "decision_tree_clf = DecisionTreeClassifier(criterion='entropy',\n",
    "                                           splitter='best',\n",
    "                                           max_depth=None)"
   ]
  },
  {
   "cell_type": "code",
   "execution_count": 62,
   "metadata": {},
   "outputs": [],
   "source": [
    "y_dt_desbalanceada = cross_val_predict(decision_tree_clf,\n",
    "                                       X_train_original,\n",
    "                                       y_train_original,\n",
    "                                       cv=5, n_jobs=-1)\n",
    "\n",
    "decision_tree_clf.fit(X_train_original, \n",
    "                      y_train_original)\n",
    "\n",
    "pipeline_decision_tree_desbalanceada = Pipeline([('feats', FeatureUnion([\n",
    "                                                    ('countvec', vec_clf)])),\n",
    "                                                    ('clf', decision_tree_clf)])"
   ]
  },
  {
   "cell_type": "markdown",
   "metadata": {},
   "source": [
    "<h2>Validação - Base desbalanceada (Decision Tree)</h2>"
   ]
  },
  {
   "cell_type": "code",
   "execution_count": 63,
   "metadata": {},
   "outputs": [],
   "source": [
    "predicao_decision_tree_desbalanceada = pipeline_decision_tree_desbalanceada.predict(X_validacao)"
   ]
  },
  {
   "cell_type": "code",
   "execution_count": 64,
   "metadata": {},
   "outputs": [
    {
     "name": "stdout",
     "output_type": "stream",
     "text": [
      "0.5527102996544433\n"
     ]
    }
   ],
   "source": [
    "print(accuracy_score(y_validacao, predicao_decision_tree_desbalanceada))"
   ]
  },
  {
   "cell_type": "code",
   "execution_count": 65,
   "metadata": {},
   "outputs": [
    {
     "name": "stdout",
     "output_type": "stream",
     "text": [
      "             precision    recall  f1-score   support\n",
      "\n",
      "          0       0.31      0.30      0.31      1722\n",
      "          1       0.41      0.30      0.35      6960\n",
      "          2       0.62      0.81      0.70     19595\n",
      "          3       0.46      0.28      0.35      8211\n",
      "          4       0.40      0.24      0.30      2290\n",
      "\n",
      "avg / total       0.52      0.55      0.53     38778\n",
      "\n"
     ]
    }
   ],
   "source": [
    "print(classification_report(y_validacao, predicao_decision_tree_desbalanceada))"
   ]
  },
  {
   "cell_type": "code",
   "execution_count": 66,
   "metadata": {},
   "outputs": [
    {
     "name": "stdout",
     "output_type": "stream",
     "text": [
      "[[  517   489   563   122    31]\n",
      " [  637  2122  3623   485    93]\n",
      " [  288  1758 15893  1490   166]\n",
      " [  155   605  4568  2340   543]\n",
      " [   54   159   848   668   561]]\n"
     ]
    }
   ],
   "source": [
    "print(confusion_matrix(y_validacao, predicao_decision_tree_desbalanceada))"
   ]
  },
  {
   "cell_type": "markdown",
   "metadata": {},
   "source": [
    "<h3>Base Balanceada - Decision Tree</h3>"
   ]
  },
  {
   "cell_type": "code",
   "execution_count": 67,
   "metadata": {},
   "outputs": [],
   "source": [
    "y_dt_balanceada = cross_val_predict(decision_tree_clf,\n",
    "                                       X_train_res,\n",
    "                                       y_train_res,\n",
    "                                       cv=5, n_jobs=-1)\n",
    "\n",
    "decision_tree_clf.fit(X_train_res, \n",
    "                      y_train_res)\n",
    "\n",
    "pipeline_decision_tree_balanceada = Pipeline([('feats', FeatureUnion([\n",
    "                                                    ('countvec', vec_clf)])),\n",
    "                                                    ('clf', decision_tree_clf)])"
   ]
  },
  {
   "cell_type": "code",
   "execution_count": 68,
   "metadata": {},
   "outputs": [],
   "source": [
    "predicao_decision_tree_balanceada = pipeline_decision_tree_balanceada.predict(X_validacao)"
   ]
  },
  {
   "cell_type": "code",
   "execution_count": 69,
   "metadata": {},
   "outputs": [
    {
     "name": "stdout",
     "output_type": "stream",
     "text": [
      "0.5084841920676673\n"
     ]
    }
   ],
   "source": [
    "print(accuracy_score(y_validacao, predicao_decision_tree_balanceada))"
   ]
  },
  {
   "cell_type": "code",
   "execution_count": 70,
   "metadata": {},
   "outputs": [
    {
     "name": "stdout",
     "output_type": "stream",
     "text": [
      "             precision    recall  f1-score   support\n",
      "\n",
      "          0       0.25      0.31      0.28      1722\n",
      "          1       0.37      0.33      0.35      6960\n",
      "          2       0.64      0.69      0.66     19595\n",
      "          3       0.39      0.34      0.36      8211\n",
      "          4       0.29      0.29      0.29      2290\n",
      "\n",
      "avg / total       0.50      0.51      0.50     38778\n",
      "\n"
     ]
    }
   ],
   "source": [
    "print(classification_report(y_validacao, predicao_decision_tree_balanceada))"
   ]
  },
  {
   "cell_type": "code",
   "execution_count": 71,
   "metadata": {},
   "outputs": [
    {
     "name": "stdout",
     "output_type": "stream",
     "text": [
      "[[  534   520   431   159    78]\n",
      " [  722  2275  2951   779   233]\n",
      " [  531  2384 13449  2671   560]\n",
      " [  240   812  3583  2802   774]\n",
      " [   91   202   592   747   658]]\n"
     ]
    }
   ],
   "source": [
    "print(confusion_matrix(y_validacao, predicao_decision_tree_balanceada))"
   ]
  },
  {
   "cell_type": "markdown",
   "metadata": {},
   "source": [
    "<h2>MULTILAYER PERCEPTRON</h2><br>\n",
    "<h3>Base original (desbalanceada)</h3>"
   ]
  },
  {
   "cell_type": "code",
   "execution_count": 72,
   "metadata": {},
   "outputs": [],
   "source": [
    "mlp_clf = MLPClassifier(hidden_layer_sizes=100,\n",
    "                        learning_rate='adaptive',\n",
    "                        learning_rate_init=0.001)"
   ]
  },
  {
   "cell_type": "code",
   "execution_count": 73,
   "metadata": {},
   "outputs": [],
   "source": [
    "y_mlp_desbalanceada = cross_val_predict(mlp_clf,\n",
    "                                       X_train_original,\n",
    "                                       y_train_original,\n",
    "                                       cv=5, n_jobs=-1)\n",
    "\n",
    "mlp_clf.fit(X_train_original, \n",
    "            y_train_original)\n",
    "\n",
    "pipeline_mlp_desbalanceada = Pipeline([('feats', FeatureUnion([\n",
    "                                       ('countvec', vec_clf)])),\n",
    "                                       ('clf', mlp_clf)])"
   ]
  },
  {
   "cell_type": "markdown",
   "metadata": {},
   "source": [
    "<h2>Validação - Base desbalanceada (Multilayer Perceptron)</h2>"
   ]
  },
  {
   "cell_type": "code",
   "execution_count": 74,
   "metadata": {},
   "outputs": [],
   "source": [
    "predicao_mlp_desbalanceada = pipeline_mlp_desbalanceada.predict(X_validacao)"
   ]
  },
  {
   "cell_type": "code",
   "execution_count": 75,
   "metadata": {},
   "outputs": [
    {
     "name": "stdout",
     "output_type": "stream",
     "text": [
      "0.5209912837175719\n"
     ]
    }
   ],
   "source": [
    "print(accuracy_score(y_validacao, predicao_mlp_desbalanceada))"
   ]
  },
  {
   "cell_type": "code",
   "execution_count": 76,
   "metadata": {},
   "outputs": [
    {
     "name": "stdout",
     "output_type": "stream",
     "text": [
      "             precision    recall  f1-score   support\n",
      "\n",
      "          0       0.31      0.04      0.07      1722\n",
      "          1       0.34      0.20      0.25      6960\n",
      "          2       0.58      0.87      0.69     19595\n",
      "          3       0.35      0.20      0.25      8211\n",
      "          4       0.37      0.06      0.10      2290\n",
      "\n",
      "avg / total       0.46      0.52      0.46     38778\n",
      "\n"
     ]
    }
   ],
   "source": [
    "print(classification_report(y_validacao, predicao_mlp_desbalanceada))"
   ]
  },
  {
   "cell_type": "code",
   "execution_count": 77,
   "metadata": {},
   "outputs": [
    {
     "name": "stdout",
     "output_type": "stream",
     "text": [
      "[[   66   491   886   266    13]\n",
      " [   63  1392  4677   792    36]\n",
      " [   35  1230 16982  1287    61]\n",
      " [   38   746  5682  1630   115]\n",
      " [   10   286  1230   631   133]]\n"
     ]
    }
   ],
   "source": [
    "print(confusion_matrix(y_validacao, predicao_mlp_desbalanceada))"
   ]
  },
  {
   "cell_type": "markdown",
   "metadata": {},
   "source": [
    "<h3>Base Balanceada - Multilayer Perceptron</h3>"
   ]
  },
  {
   "cell_type": "code",
   "execution_count": 78,
   "metadata": {},
   "outputs": [],
   "source": [
    "y_mlp_balanceada = cross_val_predict(mlp_clf,\n",
    "                                       X_train_res,\n",
    "                                       y_train_res,\n",
    "                                       cv=5, n_jobs=-1)\n",
    "\n",
    "mlp_clf.fit(X_train_res, \n",
    "            y_train_res)\n",
    "\n",
    "pipeline_mlp_balanceada = Pipeline([('feats', FeatureUnion([\n",
    "                                    ('countvec', vec_clf)])),\n",
    "                                    ('clf', mlp_clf)])"
   ]
  },
  {
   "cell_type": "code",
   "execution_count": 79,
   "metadata": {},
   "outputs": [],
   "source": [
    "predicao_mlp_balanceada = pipeline_mlp_balanceada.predict(X_validacao)"
   ]
  },
  {
   "cell_type": "code",
   "execution_count": 80,
   "metadata": {},
   "outputs": [
    {
     "name": "stdout",
     "output_type": "stream",
     "text": [
      "0.3860694208056114\n"
     ]
    }
   ],
   "source": [
    "print(accuracy_score(y_validacao, predicao_mlp_balanceada))"
   ]
  },
  {
   "cell_type": "code",
   "execution_count": 81,
   "metadata": {},
   "outputs": [
    {
     "name": "stdout",
     "output_type": "stream",
     "text": [
      "             precision    recall  f1-score   support\n",
      "\n",
      "          0       0.15      0.31      0.20      1722\n",
      "          1       0.25      0.24      0.24      6960\n",
      "          2       0.67      0.48      0.56     19595\n",
      "          3       0.27      0.31      0.29      8211\n",
      "          4       0.15      0.34      0.21      2290\n",
      "\n",
      "avg / total       0.46      0.39      0.41     38778\n",
      "\n"
     ]
    }
   ],
   "source": [
    "print(classification_report(y_validacao, predicao_mlp_balanceada))"
   ]
  },
  {
   "cell_type": "code",
   "execution_count": 82,
   "metadata": {},
   "outputs": [
    {
     "name": "stdout",
     "output_type": "stream",
     "text": [
      "[[ 541  438  219  329  195]\n",
      " [1014 1655 1867 1649  775]\n",
      " [1292 2842 9428 4217 1816]\n",
      " [ 635 1359 2220 2577 1420]\n",
      " [ 182  309  349  680  770]]\n"
     ]
    }
   ],
   "source": [
    "print(confusion_matrix(y_validacao, predicao_mlp_balanceada))"
   ]
  },
  {
   "cell_type": "markdown",
   "metadata": {},
   "source": [
    "<h2>ENSEMBLE - VOTING CLASSIFIER</h2><br>\n",
    "<h3>Base original (desbalanceada)</h3>"
   ]
  },
  {
   "cell_type": "code",
   "execution_count": 83,
   "metadata": {},
   "outputs": [],
   "source": [
    "voting_clf = VotingClassifier(estimators=[('RF', random_forest_clf), \n",
    "                                          ('DT', decision_tree_clf), \n",
    "                                          ('MLP', mlp_clf)], voting='soft')\n",
    "\n",
    "y_voting_desbalanceada = cross_val_predict(voting_clf,\n",
    "                                           X_train_original,\n",
    "                                           y_train_original,\n",
    "                                           cv=5, n_jobs=-1)\n",
    "\n",
    "voting_clf.fit(X_train_original, \n",
    "               y_train_original)\n",
    "\n",
    "pipeline_voting_desbalanceada = Pipeline([('feats', FeatureUnion([\n",
    "                                                    ('countvec', vec_clf)])),\n",
    "                                                    ('clf', voting_clf)])"
   ]
  },
  {
   "cell_type": "markdown",
   "metadata": {},
   "source": [
    "<h2>Validação - Base desbalanceada (Ensemble - Voting Classifier)</h2>"
   ]
  },
  {
   "cell_type": "code",
   "execution_count": 85,
   "metadata": {},
   "outputs": [
    {
     "name": "stderr",
     "output_type": "stream",
     "text": [
      "C:\\ProgramData\\Anaconda2\\lib\\site-packages\\sklearn\\preprocessing\\label.py:151: DeprecationWarning: The truth value of an empty array is ambiguous. Returning False, but in future this will result in an error. Use `array.size > 0` to check that an array is not empty.\n",
      "  if diff:\n"
     ]
    }
   ],
   "source": [
    "predicao_voting_desbalanceada = pipeline_voting_desbalanceada.predict(X_validacao)"
   ]
  },
  {
   "cell_type": "code",
   "execution_count": 86,
   "metadata": {},
   "outputs": [
    {
     "name": "stdout",
     "output_type": "stream",
     "text": [
      "0.5606013719119088\n"
     ]
    }
   ],
   "source": [
    "print(accuracy_score(y_validacao, predicao_voting_desbalanceada))"
   ]
  },
  {
   "cell_type": "code",
   "execution_count": 87,
   "metadata": {},
   "outputs": [
    {
     "name": "stdout",
     "output_type": "stream",
     "text": [
      "             precision    recall  f1-score   support\n",
      "\n",
      "          0       0.35      0.24      0.29      1722\n",
      "          1       0.44      0.28      0.35      6960\n",
      "          2       0.62      0.83      0.71     19595\n",
      "          3       0.46      0.29      0.36      8211\n",
      "          4       0.40      0.26      0.31      2290\n",
      "\n",
      "avg / total       0.53      0.56      0.53     38778\n",
      "\n"
     ]
    }
   ],
   "source": [
    "print(classification_report(y_validacao, predicao_voting_desbalanceada))"
   ]
  },
  {
   "cell_type": "code",
   "execution_count": 88,
   "metadata": {},
   "outputs": [
    {
     "name": "stdout",
     "output_type": "stream",
     "text": [
      "[[  415   528   613   131    35]\n",
      " [  457  1979  3924   501    99]\n",
      " [  179  1383 16340  1520   173]\n",
      " [   99   440  4674  2420   578]\n",
      " [   31   129   881   664   585]]\n"
     ]
    }
   ],
   "source": [
    "print(confusion_matrix(y_validacao, predicao_voting_desbalanceada))"
   ]
  },
  {
   "cell_type": "markdown",
   "metadata": {},
   "source": [
    "<h3>Base Balanceada - Voting Classifier</h3>"
   ]
  },
  {
   "cell_type": "code",
   "execution_count": 89,
   "metadata": {},
   "outputs": [],
   "source": [
    "y_voting_balanceada = cross_val_predict(voting_clf,\n",
    "                                       X_train_res,\n",
    "                                       y_train_res,\n",
    "                                       cv=5, n_jobs=-1)\n",
    "\n",
    "mlp_clf.fit(X_train_res, \n",
    "            y_train_res)\n",
    "\n",
    "pipeline_voting_balanceada = Pipeline([('feats', FeatureUnion([\n",
    "                                       ('countvec', vec_clf)])),\n",
    "                                       ('clf', voting_clf)])"
   ]
  },
  {
   "cell_type": "code",
   "execution_count": 93,
   "metadata": {},
   "outputs": [
    {
     "name": "stderr",
     "output_type": "stream",
     "text": [
      "C:\\ProgramData\\Anaconda2\\lib\\site-packages\\sklearn\\preprocessing\\label.py:151: DeprecationWarning: The truth value of an empty array is ambiguous. Returning False, but in future this will result in an error. Use `array.size > 0` to check that an array is not empty.\n",
      "  if diff:\n"
     ]
    }
   ],
   "source": [
    "predicao_voting_balanceada = pipeline_voting_balanceada.predict(X_validacao)"
   ]
  },
  {
   "cell_type": "code",
   "execution_count": 96,
   "metadata": {},
   "outputs": [
    {
     "name": "stdout",
     "output_type": "stream",
     "text": [
      "0.5606013719119088\n"
     ]
    }
   ],
   "source": [
    "print(accuracy_score(y_validacao, predicao_voting_balanceada))"
   ]
  },
  {
   "cell_type": "code",
   "execution_count": 97,
   "metadata": {},
   "outputs": [
    {
     "name": "stdout",
     "output_type": "stream",
     "text": [
      "             precision    recall  f1-score   support\n",
      "\n",
      "          0       0.35      0.24      0.29      1722\n",
      "          1       0.44      0.28      0.35      6960\n",
      "          2       0.62      0.83      0.71     19595\n",
      "          3       0.46      0.29      0.36      8211\n",
      "          4       0.40      0.26      0.31      2290\n",
      "\n",
      "avg / total       0.53      0.56      0.53     38778\n",
      "\n"
     ]
    }
   ],
   "source": [
    "print(classification_report(y_validacao, predicao_voting_balanceada))"
   ]
  },
  {
   "cell_type": "code",
   "execution_count": 98,
   "metadata": {},
   "outputs": [
    {
     "name": "stdout",
     "output_type": "stream",
     "text": [
      "[[  415   528   613   131    35]\n",
      " [  457  1979  3924   501    99]\n",
      " [  179  1383 16340  1520   173]\n",
      " [   99   440  4674  2420   578]\n",
      " [   31   129   881   664   585]]\n"
     ]
    }
   ],
   "source": [
    "print(confusion_matrix(y_validacao, predicao_voting_balanceada))"
   ]
  },
  {
   "cell_type": "code",
   "execution_count": null,
   "metadata": {},
   "outputs": [],
   "source": []
  }
 ],
 "metadata": {
  "kernelspec": {
   "display_name": "Python 2",
   "language": "python",
   "name": "python2"
  },
  "language_info": {
   "codemirror_mode": {
    "name": "ipython",
    "version": 2
   },
   "file_extension": ".py",
   "mimetype": "text/x-python",
   "name": "python",
   "nbconvert_exporter": "python",
   "pygments_lexer": "ipython2",
   "version": "2.7.15"
  }
 },
 "nbformat": 4,
 "nbformat_minor": 2
}
